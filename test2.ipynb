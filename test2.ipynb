{
 "cells": [
  {
   "cell_type": "markdown",
   "id": "c641c578-8d2a-4042-8eec-5a4510ed84a0",
   "metadata": {},
   "source": [
    "![test](../main/300x/00-00-0000-1-300x.png)"
   ]
  }
 ],
 "metadata": {
  "kernelspec": {
   "display_name": "Python 3 (ipykernel)",
   "language": "python",
   "name": "python3"
  },
  "language_info": {
   "codemirror_mode": {
    "name": "ipython",
    "version": 3
   },
   "file_extension": ".py",
   "mimetype": "text/x-python",
   "name": "python",
   "nbconvert_exporter": "python",
   "pygments_lexer": "ipython3",
   "version": "3.10.10"
  }
 },
 "nbformat": 4,
 "nbformat_minor": 5
}
