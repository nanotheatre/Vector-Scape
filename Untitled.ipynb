{
 "cells": [
  {
   "cell_type": "markdown",
   "id": "598e4eee",
   "metadata": {},
   "source": [
    "<div style=\"text-align: center;\"><a href=\"https://nanotheatre.github.io/vector-space.html?artefact=15-08-2020-7b\"><img src=\"https://nanotheatre.github.io/Vector-Space/300x/15-08-2020-7b-300x.png\" style=\"border: 1px solid #ddd\"></a><img src=\"https://nanotheatre.github.io/Vector-Space/300x/15-08-2020-7b-300x.png\" style=\"border: 1px solid #ddd\"></div>"
   ]
  }
 ],
 "metadata": {
  "kernelspec": {
   "display_name": "",
   "name": ""
  },
  "language_info": {
   "name": ""
  }
 },
 "nbformat": 4,
 "nbformat_minor": 5
}
