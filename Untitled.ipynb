{
 "cells": [
  {
   "cell_type": "markdown",
   "id": "c0293be8-ce5f-468d-a68a-e870c4770944",
   "metadata": {},
   "source": [
    "<div style=\"text-align: center;\"><img src=\"https://nanotheatre.github.io/Vector-Space/300x/15-08-2020-7b-300x.png\" style=\"border: 1px solid red\"><img src=\"https://nanotheatre.github.io/Vector-Space/300x/15-08-2020-7b-300x.png\" style=\"border: 1px solid aqua\"></div>"
   ]
  }
 ],
 "metadata": {
  "kernelspec": {
   "display_name": "",
   "name": ""
  },
  "language_info": {
   "name": ""
  }
 },
 "nbformat": 4,
 "nbformat_minor": 5
}
