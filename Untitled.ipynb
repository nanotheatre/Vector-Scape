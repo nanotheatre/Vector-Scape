{
 "cells": [
  {
   "cell_type": "markdown",
   "id": "598e4eee",
   "metadata": {},
   "source": [
    "<div style=\"text-align: center; background: #ddd; margin-left: -80px;\"><a href=\"https://nanotheatre.github.io/vector-space.html?artefact=15-08-2020-7b\"><img src=\"https://nanotheatre.github.io/Vector-Space/300x/15-08-2020-7b-300x.png\" style=\"border: 1px solid #ddd; margin: 15px;\"></a><a href=\"https://nanotheatre.github.io/vector-space.html?artefact=15-08-2020-7b\"><img src=\"https://nanotheatre.github.io/Vector-Space/300x/15-08-2020-7b-300x.png\" style=\"border: 1px solid #ddd; margin: 15px;\"></a></div>"
   ]
  },
  {
   "cell_type": "markdown",
   "id": "5a47b977",
   "metadata": {},
   "source": [
    "<table align=\"center\" style=\"\"><tr><td style=\"padding: 15px\"><a href=\"https://nanotheatre.github.io/vector-space.html?artefact=15-08-2020-7b\"><img src=\"https://nanotheatre.github.io/Vector-Space/300x/15-08-2020-7b-300x.png\" style=\"border: 1px solid #ddd\"></a></td><td style=\"padding: 15px\"><a href=\"https://nanotheatre.github.io/vector-space.html?artefact=15-08-2020-7b\"><img src=\"https://nanotheatre.github.io/Vector-Space/300x/15-08-2020-7b-300x.png\" style=\"border: 1px solid #ddd\"></a></td></tr><tr><td style=\"padding: 15px\"><a href=\"https://nanotheatre.github.io/vector-space.html?artefact=15-08-2020-7b\"><img src=\"https://nanotheatre.github.io/Vector-Space/300x/15-08-2020-7b-300x.png\" style=\"border: 1px solid #ddd\"></a></td><td style=\"padding: 15px\"><a href=\"https://nanotheatre.github.io/vector-space.html?artefact=15-08-2020-7b\"><img src=\"https://nanotheatre.github.io/Vector-Space/300x/15-08-2020-7b-300x.png\" style=\"border: 1px solid #ddd\"></a></td></tr></table>"
   ]
  }
 ],
 "metadata": {
  "kernelspec": {
   "display_name": "Python 3 (ipykernel)",
   "language": "python",
   "name": "python3"
  },
  "language_info": {
   "codemirror_mode": {
    "name": "ipython",
    "version": 3
   },
   "file_extension": ".py",
   "mimetype": "text/x-python",
   "name": "python",
   "nbconvert_exporter": "python",
   "pygments_lexer": "ipython3",
   "version": "3.10.10"
  }
 },
 "nbformat": 4,
 "nbformat_minor": 5
}
