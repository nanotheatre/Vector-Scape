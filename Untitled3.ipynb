{
 "cells": [
  {
   "cell_type": "code",
   "execution_count": 24,
   "id": "862c5695-3918-42d0-be3b-bd0a191f2b08",
   "metadata": {},
   "outputs": [
    {
     "name": "stdout",
     "output_type": "stream",
     "text": [
      "<div style=\"background: #ddd; display: flex; justify-content: center;\"><div style=\"background: #ddd; display: flex; justify-content: start; flex-wrap: wrap; width: 625px; margin: 0 auto; padding: 5px;\"><a href=\"https://nanotheatre.github.io/vector-space.html?artefact=15-08-2020-7b\"><img style=\"border: 1px solid #ccc; margin: 5px\" src=\"https://nanotheatre.github.io/Vector-Space/300x/15-08-2020-7b-300x.png\"></a><a href=\"https://nanotheatre.github.io/vector-space.html?artefact=15-08-2020-7b\"><img style=\"border: 1px solid #ccc; margin: 5px\" src=\"https://nanotheatre.github.io/Vector-Space/300x/15-08-2020-7b-300x.png\"></a><a href=\"https://nanotheatre.github.io/vector-space.html?artefact=15-08-2020-7b\"><img style=\"border: 1px solid #ccc; margin: 5px\" src=\"https://nanotheatre.github.io/Vector-Space/300x/15-08-2020-7b-300x.png\"></a></div></div>\n"
     ]
    }
   ],
   "source": [
    "from IPython.display import display, HTML\n",
    "# marge = 5 ; large = (300 * 2) + (5 * marge) ; display(HTML(f'<div style=\"background: #ddd; display: flex; justify-content: center;\"><div style=\"background: #ddd; display: flex; justify-content: start; flex-wrap: wrap; width: {large}px; margin: 0 auto; padding: {marge}px;\">' + \"\".join([f'<a href=\"https://nanotheatre.github.io/vector-space.html?artefact=15-08-2020-7b\"><img style=\"border: 1px solid #ccc; margin: {marge}px\" src=\"https://nanotheatre.github.io/Vector-Space/300x/{nom}-300x.png\"></a>' for nom in [\"15-08-2020-7b\", \"15-08-2020-7b\", \"15-08-2020-7b\"]]) + '</div></div>'))\n",
    "marge = 5 ; large = (300 * 2) + (5 * marge) ; print(f'<div style=\"background: #ddd; display: flex; justify-content: center;\"><div style=\"background: #ddd; display: flex; justify-content: start; flex-wrap: wrap; width: {large}px; margin: 0 auto; padding: {marge}px;\">' + \"\".join([f'<a href=\"https://nanotheatre.github.io/vector-space.html?artefact=15-08-2020-7b\"><img style=\"border: 1px solid #ccc; margin: {marge}px\" src=\"https://nanotheatre.github.io/Vector-Space/300x/{nom}-300x.png\"></a>' for nom in [\"15-08-2020-7b\", \"15-08-2020-7b\", \"15-08-2020-7b\"]]) + '</div></div>')\n",
    "\n"
   ]
  },
  {
   "cell_type": "code",
   "execution_count": null,
   "id": "24fcd73b-e53d-47dd-a7b3-b573ad27a8d2",
   "metadata": {},
   "outputs": [],
   "source": []
  }
 ],
 "metadata": {
  "kernelspec": {
   "display_name": "Python 3 (ipykernel)",
   "language": "python",
   "name": "python3"
  },
  "language_info": {
   "codemirror_mode": {
    "name": "ipython",
    "version": 3
   },
   "file_extension": ".py",
   "mimetype": "text/x-python",
   "name": "python",
   "nbconvert_exporter": "python",
   "pygments_lexer": "ipython3",
   "version": "3.10.10"
  }
 },
 "nbformat": 4,
 "nbformat_minor": 5
}
