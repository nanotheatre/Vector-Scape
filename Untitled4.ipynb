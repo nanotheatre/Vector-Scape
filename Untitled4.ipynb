{
 "cells": [
  {
   "cell_type": "markdown",
   "id": "ba0a8b01-78a4-421d-a10f-669e13fdf724",
   "metadata": {},
   "source": [
    "<div style=\"background: #f5f5f5; display: flex; justify-content: center;\"><div style=\"background: #ddd; display: flex; justify-content: start; flex-wrap: wrap; width: 625px; margin: 0 auto; padding: 5px;\"><a href=\"https://nanotheatre.github.io/vector-space.html?artefact=15-08-2020-7b\"><img style=\"border: 1px solid #ccc; margin: 5px; min-width: 300px; max-width: 300px;\" src=\"https://nanotheatre.github.io/Vector-Space/300x/15-08-2020-7b-300x.png\"></a><a href=\"https://nanotheatre.github.io/vector-space.html?artefact=15-08-2020-7b\"><img style=\"border: 1px solid #ccc; margin: 5px; min-width: 300px; max-width: 300px;\" src=\"https://nanotheatre.github.io/Vector-Space/300x/15-08-2020-7b-300x.png\"></a><a href=\"https://nanotheatre.github.io/vector-space.html?artefact=15-08-2020-7b\"><img style=\"border: 1px solid #ccc; margin: 5px; min-width: 300px; max-width: 300px;\" src=\"https://nanotheatre.github.io/Vector-Space/300x/15-08-2020-7b-300x.png\"></a></div></div>"
   ]
  },
  {
   "cell_type": "code",
   "execution_count": null,
   "id": "0ef2397e-6c2f-43de-9ed2-0a3038df44c0",
   "metadata": {},
   "outputs": [],
   "source": []
  }
 ],
 "metadata": {
  "kernelspec": {
   "display_name": "",
   "name": ""
  },
  "language_info": {
   "name": ""
  }
 },
 "nbformat": 4,
 "nbformat_minor": 5
}
